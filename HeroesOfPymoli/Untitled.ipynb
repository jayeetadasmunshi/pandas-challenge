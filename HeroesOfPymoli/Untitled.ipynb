{
 "cells": [
  {
   "cell_type": "markdown",
   "metadata": {},
   "source": [
    "# Heroes of Pymoli Data Analysis \n",
    "1. The majority of purchases are bought by people aged 15-24\n",
    "2. Males make, by a large margin, the main gender to play the game.\n",
    "3. The item (Oathbreaker, Last Hope of the Breaking Storm) is the most profitable as well as the most popular item\n"
   ]
  },
  {
   "cell_type": "code",
   "execution_count": 1,
   "metadata": {},
   "outputs": [
    {
     "data": {
      "application/javascript": [
       "\n",
       "            setTimeout(function() {\n",
       "                var nbb_cell_id = 1;\n",
       "                var nbb_unformatted_code = \"%load_ext nb_black\";\n",
       "                var nbb_formatted_code = \"%load_ext nb_black\";\n",
       "                var nbb_cells = Jupyter.notebook.get_cells();\n",
       "                for (var i = 0; i < nbb_cells.length; ++i) {\n",
       "                    if (nbb_cells[i].input_prompt_number == nbb_cell_id) {\n",
       "                        if (nbb_cells[i].get_text() == nbb_unformatted_code) {\n",
       "                             nbb_cells[i].set_text(nbb_formatted_code);\n",
       "                        }\n",
       "                        break;\n",
       "                    }\n",
       "                }\n",
       "            }, 500);\n",
       "            "
      ],
      "text/plain": [
       "<IPython.core.display.Javascript object>"
      ]
     },
     "metadata": {},
     "output_type": "display_data"
    }
   ],
   "source": [
    "%load_ext nb_black"
   ]
  },
  {
   "cell_type": "code",
   "execution_count": 2,
   "metadata": {},
   "outputs": [
    {
     "data": {
      "application/javascript": [
       "\n",
       "            setTimeout(function() {\n",
       "                var nbb_cell_id = 2;\n",
       "                var nbb_unformatted_code = \"import os\";\n",
       "                var nbb_formatted_code = \"import os\";\n",
       "                var nbb_cells = Jupyter.notebook.get_cells();\n",
       "                for (var i = 0; i < nbb_cells.length; ++i) {\n",
       "                    if (nbb_cells[i].input_prompt_number == nbb_cell_id) {\n",
       "                        if (nbb_cells[i].get_text() == nbb_unformatted_code) {\n",
       "                             nbb_cells[i].set_text(nbb_formatted_code);\n",
       "                        }\n",
       "                        break;\n",
       "                    }\n",
       "                }\n",
       "            }, 500);\n",
       "            "
      ],
      "text/plain": [
       "<IPython.core.display.Javascript object>"
      ]
     },
     "metadata": {},
     "output_type": "display_data"
    }
   ],
   "source": [
    "import os\n",
    "import pandas as pd"
   ]
  },
  {
   "cell_type": "code",
   "execution_count": 4,
   "metadata": {},
   "outputs": [
    {
     "data": {
      "application/javascript": [
       "\n",
       "            setTimeout(function() {\n",
       "                var nbb_cell_id = 4;\n",
       "                var nbb_unformatted_code = \"path = os.path.join(\\\"Resources\\\", \\\"purchase_data.csv\\\")\";\n",
       "                var nbb_formatted_code = \"path = os.path.join(\\\"Resources\\\", \\\"purchase_data.csv\\\")\";\n",
       "                var nbb_cells = Jupyter.notebook.get_cells();\n",
       "                for (var i = 0; i < nbb_cells.length; ++i) {\n",
       "                    if (nbb_cells[i].input_prompt_number == nbb_cell_id) {\n",
       "                        if (nbb_cells[i].get_text() == nbb_unformatted_code) {\n",
       "                             nbb_cells[i].set_text(nbb_formatted_code);\n",
       "                        }\n",
       "                        break;\n",
       "                    }\n",
       "                }\n",
       "            }, 500);\n",
       "            "
      ],
      "text/plain": [
       "<IPython.core.display.Javascript object>"
      ]
     },
     "metadata": {},
     "output_type": "display_data"
    }
   ],
   "source": [
    "path = os.path.join(\"Resources\", \"purchase_data.csv\")\n"
   ]
  },
  {
   "cell_type": "code",
   "execution_count": 5,
   "metadata": {},
   "outputs": [
    {
     "data": {
      "application/javascript": [
       "\n",
       "            setTimeout(function() {\n",
       "                var nbb_cell_id = 5;\n",
       "                var nbb_unformatted_code = \"df=pd.read_csv(path)\";\n",
       "                var nbb_formatted_code = \"df = pd.read_csv(path)\";\n",
       "                var nbb_cells = Jupyter.notebook.get_cells();\n",
       "                for (var i = 0; i < nbb_cells.length; ++i) {\n",
       "                    if (nbb_cells[i].input_prompt_number == nbb_cell_id) {\n",
       "                        if (nbb_cells[i].get_text() == nbb_unformatted_code) {\n",
       "                             nbb_cells[i].set_text(nbb_formatted_code);\n",
       "                        }\n",
       "                        break;\n",
       "                    }\n",
       "                }\n",
       "            }, 500);\n",
       "            "
      ],
      "text/plain": [
       "<IPython.core.display.Javascript object>"
      ]
     },
     "metadata": {},
     "output_type": "display_data"
    }
   ],
   "source": [
    "df=pd.read_csv(path)\n"
   ]
  },
  {
   "cell_type": "code",
   "execution_count": 6,
   "metadata": {},
   "outputs": [
    {
     "data": {
      "text/plain": [
       "Purchase ID      int64\n",
       "SN              object\n",
       "Age              int64\n",
       "Gender          object\n",
       "Item ID          int64\n",
       "Item Name       object\n",
       "Price          float64\n",
       "dtype: object"
      ]
     },
     "execution_count": 6,
     "metadata": {},
     "output_type": "execute_result"
    },
    {
     "data": {
      "application/javascript": [
       "\n",
       "            setTimeout(function() {\n",
       "                var nbb_cell_id = 6;\n",
       "                var nbb_unformatted_code = \"df.dtypes\";\n",
       "                var nbb_formatted_code = \"df.dtypes\";\n",
       "                var nbb_cells = Jupyter.notebook.get_cells();\n",
       "                for (var i = 0; i < nbb_cells.length; ++i) {\n",
       "                    if (nbb_cells[i].input_prompt_number == nbb_cell_id) {\n",
       "                        if (nbb_cells[i].get_text() == nbb_unformatted_code) {\n",
       "                             nbb_cells[i].set_text(nbb_formatted_code);\n",
       "                        }\n",
       "                        break;\n",
       "                    }\n",
       "                }\n",
       "            }, 500);\n",
       "            "
      ],
      "text/plain": [
       "<IPython.core.display.Javascript object>"
      ]
     },
     "metadata": {},
     "output_type": "display_data"
    }
   ],
   "source": [
    "df.dtypes"
   ]
  },
  {
   "cell_type": "code",
   "execution_count": 33,
   "metadata": {},
   "outputs": [
    {
     "data": {
      "text/html": [
       "<div>\n",
       "<style scoped>\n",
       "    .dataframe tbody tr th:only-of-type {\n",
       "        vertical-align: middle;\n",
       "    }\n",
       "\n",
       "    .dataframe tbody tr th {\n",
       "        vertical-align: top;\n",
       "    }\n",
       "\n",
       "    .dataframe thead th {\n",
       "        text-align: right;\n",
       "    }\n",
       "</style>\n",
       "<table border=\"1\" class=\"dataframe\">\n",
       "  <thead>\n",
       "    <tr style=\"text-align: right;\">\n",
       "      <th></th>\n",
       "      <th>Player Count</th>\n",
       "    </tr>\n",
       "  </thead>\n",
       "  <tbody>\n",
       "    <tr>\n",
       "      <th>0</th>\n",
       "      <td>576</td>\n",
       "    </tr>\n",
       "  </tbody>\n",
       "</table>\n",
       "</div>"
      ],
      "text/plain": [
       "  Player Count\n",
       "0          576"
      ]
     },
     "execution_count": 33,
     "metadata": {},
     "output_type": "execute_result"
    },
    {
     "data": {
      "application/javascript": [
       "\n",
       "            setTimeout(function() {\n",
       "                var nbb_cell_id = 33;\n",
       "                var nbb_unformatted_code = \"PlayerCount = len(df[\\\"SN\\\"].unique())\\nplayercount_total = pd.DataFrame({\\\"Player Count\\\": [PlayerCount]})\\nplayercount_total[\\\"Player Count\\\"] = playercount_total[\\\"Player Count\\\"].map(\\\"{:,}\\\".format)\\nplayercount_total\";\n",
       "                var nbb_formatted_code = \"PlayerCount = len(df[\\\"SN\\\"].unique())\\nplayercount_total = pd.DataFrame({\\\"Player Count\\\": [PlayerCount]})\\nplayercount_total[\\\"Player Count\\\"] = playercount_total[\\\"Player Count\\\"].map(\\\"{:,}\\\".format)\\nplayercount_total\";\n",
       "                var nbb_cells = Jupyter.notebook.get_cells();\n",
       "                for (var i = 0; i < nbb_cells.length; ++i) {\n",
       "                    if (nbb_cells[i].input_prompt_number == nbb_cell_id) {\n",
       "                        if (nbb_cells[i].get_text() == nbb_unformatted_code) {\n",
       "                             nbb_cells[i].set_text(nbb_formatted_code);\n",
       "                        }\n",
       "                        break;\n",
       "                    }\n",
       "                }\n",
       "            }, 500);\n",
       "            "
      ],
      "text/plain": [
       "<IPython.core.display.Javascript object>"
      ]
     },
     "metadata": {},
     "output_type": "display_data"
    }
   ],
   "source": [
    "PlayerCount = len(df[\"SN\"].unique())\n",
    "playercount_total = pd.DataFrame({\"Player Count\": [PlayerCount]})\n",
    "playercount_total[\"Player Count\"] = playercount_total[\"Player Count\"].map(\"{:,}\".format)\n",
    "playercount_total"
   ]
  },
  {
   "cell_type": "code",
   "execution_count": 21,
   "metadata": {},
   "outputs": [
    {
     "data": {
      "text/plain": [
       "576"
      ]
     },
     "execution_count": 21,
     "metadata": {},
     "output_type": "execute_result"
    },
    {
     "data": {
      "application/javascript": [
       "\n",
       "            setTimeout(function() {\n",
       "                var nbb_cell_id = 21;\n",
       "                var nbb_unformatted_code = \"df_clean=df.loc[:,[\\\"Gender\\\",\\\"SN\\\",\\\"Age\\\"]]\\ndf_clean= df_clean.drop_duplicates()\\nnumberofplayer=df_clean.count()[1]\\nnumberofplayer\";\n",
       "                var nbb_formatted_code = \"df_clean = df.loc[:, [\\\"Gender\\\", \\\"SN\\\", \\\"Age\\\"]]\\ndf_clean = df_clean.drop_duplicates()\\nnumberofplayer = df_clean.count()[1]\\nnumberofplayer\";\n",
       "                var nbb_cells = Jupyter.notebook.get_cells();\n",
       "                for (var i = 0; i < nbb_cells.length; ++i) {\n",
       "                    if (nbb_cells[i].input_prompt_number == nbb_cell_id) {\n",
       "                        if (nbb_cells[i].get_text() == nbb_unformatted_code) {\n",
       "                             nbb_cells[i].set_text(nbb_formatted_code);\n",
       "                        }\n",
       "                        break;\n",
       "                    }\n",
       "                }\n",
       "            }, 500);\n",
       "            "
      ],
      "text/plain": [
       "<IPython.core.display.Javascript object>"
      ]
     },
     "metadata": {},
     "output_type": "display_data"
    }
   ],
   "source": [
    "df_clean=df.loc[:,[\"Gender\",\"SN\",\"Age\"]]\n",
    "df_clean= df_clean.drop_duplicates()\n",
    "numberofplayer=df_clean.count()[1]\n",
    "numberofplayer"
   ]
  },
  {
   "cell_type": "code",
   "execution_count": 8,
   "metadata": {},
   "outputs": [
    {
     "data": {
      "application/javascript": [
       "\n",
       "            setTimeout(function() {\n",
       "                var nbb_cell_id = 8;\n",
       "                var nbb_unformatted_code = \"#total Player count = 526\";\n",
       "                var nbb_formatted_code = \"# total Player count = 526\";\n",
       "                var nbb_cells = Jupyter.notebook.get_cells();\n",
       "                for (var i = 0; i < nbb_cells.length; ++i) {\n",
       "                    if (nbb_cells[i].input_prompt_number == nbb_cell_id) {\n",
       "                        if (nbb_cells[i].get_text() == nbb_unformatted_code) {\n",
       "                             nbb_cells[i].set_text(nbb_formatted_code);\n",
       "                        }\n",
       "                        break;\n",
       "                    }\n",
       "                }\n",
       "            }, 500);\n",
       "            "
      ],
      "text/plain": [
       "<IPython.core.display.Javascript object>"
      ]
     },
     "metadata": {},
     "output_type": "display_data"
    }
   ],
   "source": [
    "#total Player count = 526"
   ]
  },
  {
   "cell_type": "code",
   "execution_count": 9,
   "metadata": {},
   "outputs": [
    {
     "data": {
      "application/javascript": [
       "\n",
       "            setTimeout(function() {\n",
       "                var nbb_cell_id = 9;\n",
       "                var nbb_unformatted_code = \"### Purchasing Analysis (Total)\";\n",
       "                var nbb_formatted_code = \"### Purchasing Analysis (Total)\";\n",
       "                var nbb_cells = Jupyter.notebook.get_cells();\n",
       "                for (var i = 0; i < nbb_cells.length; ++i) {\n",
       "                    if (nbb_cells[i].input_prompt_number == nbb_cell_id) {\n",
       "                        if (nbb_cells[i].get_text() == nbb_unformatted_code) {\n",
       "                             nbb_cells[i].set_text(nbb_formatted_code);\n",
       "                        }\n",
       "                        break;\n",
       "                    }\n",
       "                }\n",
       "            }, 500);\n",
       "            "
      ],
      "text/plain": [
       "<IPython.core.display.Javascript object>"
      ]
     },
     "metadata": {},
     "output_type": "display_data"
    }
   ],
   "source": [
    "### Purchasing Analysis (Total)"
   ]
  },
  {
   "cell_type": "code",
   "execution_count": 10,
   "metadata": {},
   "outputs": [
    {
     "data": {
      "text/plain": [
       "179"
      ]
     },
     "execution_count": 10,
     "metadata": {},
     "output_type": "execute_result"
    },
    {
     "data": {
      "application/javascript": [
       "\n",
       "            setTimeout(function() {\n",
       "                var nbb_cell_id = 10;\n",
       "                var nbb_unformatted_code = \" NumberofUniqueItems = len(df[\\\"Item Name\\\"].unique())\\nNumberofUniqueItems  \";\n",
       "                var nbb_formatted_code = \"NumberofUniqueItems = len(df[\\\"Item Name\\\"].unique())\\nNumberofUniqueItems\";\n",
       "                var nbb_cells = Jupyter.notebook.get_cells();\n",
       "                for (var i = 0; i < nbb_cells.length; ++i) {\n",
       "                    if (nbb_cells[i].input_prompt_number == nbb_cell_id) {\n",
       "                        if (nbb_cells[i].get_text() == nbb_unformatted_code) {\n",
       "                             nbb_cells[i].set_text(nbb_formatted_code);\n",
       "                        }\n",
       "                        break;\n",
       "                    }\n",
       "                }\n",
       "            }, 500);\n",
       "            "
      ],
      "text/plain": [
       "<IPython.core.display.Javascript object>"
      ]
     },
     "metadata": {},
     "output_type": "display_data"
    }
   ],
   "source": [
    " NumberofUniqueItems = len(df[\"Item Name\"].unique())\n",
    "NumberofUniqueItems  "
   ]
  },
  {
   "cell_type": "code",
   "execution_count": 11,
   "metadata": {},
   "outputs": [
    {
     "data": {
      "text/plain": [
       "3.050987179487176"
      ]
     },
     "execution_count": 11,
     "metadata": {},
     "output_type": "execute_result"
    },
    {
     "data": {
      "application/javascript": [
       "\n",
       "            setTimeout(function() {\n",
       "                var nbb_cell_id = 11;\n",
       "                var nbb_unformatted_code = \"AveragePurchasePrice = df[\\\"Price\\\"].mean()\\nAveragePurchasePrice\";\n",
       "                var nbb_formatted_code = \"AveragePurchasePrice = df[\\\"Price\\\"].mean()\\nAveragePurchasePrice\";\n",
       "                var nbb_cells = Jupyter.notebook.get_cells();\n",
       "                for (var i = 0; i < nbb_cells.length; ++i) {\n",
       "                    if (nbb_cells[i].input_prompt_number == nbb_cell_id) {\n",
       "                        if (nbb_cells[i].get_text() == nbb_unformatted_code) {\n",
       "                             nbb_cells[i].set_text(nbb_formatted_code);\n",
       "                        }\n",
       "                        break;\n",
       "                    }\n",
       "                }\n",
       "            }, 500);\n",
       "            "
      ],
      "text/plain": [
       "<IPython.core.display.Javascript object>"
      ]
     },
     "metadata": {},
     "output_type": "display_data"
    }
   ],
   "source": [
    "AveragePurchasePrice = df[\"Price\"].mean()\n",
    "AveragePurchasePrice\n"
   ]
  },
  {
   "cell_type": "code",
   "execution_count": 12,
   "metadata": {},
   "outputs": [
    {
     "data": {
      "text/plain": [
       "780"
      ]
     },
     "execution_count": 12,
     "metadata": {},
     "output_type": "execute_result"
    },
    {
     "data": {
      "application/javascript": [
       "\n",
       "            setTimeout(function() {\n",
       "                var nbb_cell_id = 12;\n",
       "                var nbb_unformatted_code = \"TotalNumberofPurchases = len(df[\\\"Item Name\\\"])\\nTotalNumberofPurchases\";\n",
       "                var nbb_formatted_code = \"TotalNumberofPurchases = len(df[\\\"Item Name\\\"])\\nTotalNumberofPurchases\";\n",
       "                var nbb_cells = Jupyter.notebook.get_cells();\n",
       "                for (var i = 0; i < nbb_cells.length; ++i) {\n",
       "                    if (nbb_cells[i].input_prompt_number == nbb_cell_id) {\n",
       "                        if (nbb_cells[i].get_text() == nbb_unformatted_code) {\n",
       "                             nbb_cells[i].set_text(nbb_formatted_code);\n",
       "                        }\n",
       "                        break;\n",
       "                    }\n",
       "                }\n",
       "            }, 500);\n",
       "            "
      ],
      "text/plain": [
       "<IPython.core.display.Javascript object>"
      ]
     },
     "metadata": {},
     "output_type": "display_data"
    }
   ],
   "source": [
    "TotalNumberofPurchases = len(df[\"Item Name\"])\n",
    "TotalNumberofPurchases\n"
   ]
  },
  {
   "cell_type": "code",
   "execution_count": 13,
   "metadata": {},
   "outputs": [
    {
     "data": {
      "text/plain": [
       "2379.77"
      ]
     },
     "execution_count": 13,
     "metadata": {},
     "output_type": "execute_result"
    },
    {
     "data": {
      "application/javascript": [
       "\n",
       "            setTimeout(function() {\n",
       "                var nbb_cell_id = 13;\n",
       "                var nbb_unformatted_code = \"Revenue = df[\\\"Price\\\"].sum()\\nRevenue\";\n",
       "                var nbb_formatted_code = \"Revenue = df[\\\"Price\\\"].sum()\\nRevenue\";\n",
       "                var nbb_cells = Jupyter.notebook.get_cells();\n",
       "                for (var i = 0; i < nbb_cells.length; ++i) {\n",
       "                    if (nbb_cells[i].input_prompt_number == nbb_cell_id) {\n",
       "                        if (nbb_cells[i].get_text() == nbb_unformatted_code) {\n",
       "                             nbb_cells[i].set_text(nbb_formatted_code);\n",
       "                        }\n",
       "                        break;\n",
       "                    }\n",
       "                }\n",
       "            }, 500);\n",
       "            "
      ],
      "text/plain": [
       "<IPython.core.display.Javascript object>"
      ]
     },
     "metadata": {},
     "output_type": "display_data"
    }
   ],
   "source": [
    "Revenue = df[\"Price\"].sum()\n",
    "Revenue\n"
   ]
  },
  {
   "cell_type": "code",
   "execution_count": 27,
   "metadata": {},
   "outputs": [
    {
     "data": {
      "text/html": [
       "<div>\n",
       "<style scoped>\n",
       "    .dataframe tbody tr th:only-of-type {\n",
       "        vertical-align: middle;\n",
       "    }\n",
       "\n",
       "    .dataframe tbody tr th {\n",
       "        vertical-align: top;\n",
       "    }\n",
       "\n",
       "    .dataframe thead th {\n",
       "        text-align: right;\n",
       "    }\n",
       "</style>\n",
       "<table border=\"1\" class=\"dataframe\">\n",
       "  <thead>\n",
       "    <tr style=\"text-align: right;\">\n",
       "      <th></th>\n",
       "      <th>Number of Unique Items</th>\n",
       "      <th>Average Price</th>\n",
       "      <th>Number of Purchases</th>\n",
       "      <th>Total Revenue</th>\n",
       "    </tr>\n",
       "  </thead>\n",
       "  <tbody>\n",
       "    <tr>\n",
       "      <th>0</th>\n",
       "      <td>179</td>\n",
       "      <td>$3.05</td>\n",
       "      <td>780</td>\n",
       "      <td>$2,379.77</td>\n",
       "    </tr>\n",
       "  </tbody>\n",
       "</table>\n",
       "</div>"
      ],
      "text/plain": [
       "  Number of Unique Items Average Price Number of Purchases Total Revenue\n",
       "0                    179         $3.05                 780     $2,379.77"
      ]
     },
     "execution_count": 27,
     "metadata": {},
     "output_type": "execute_result"
    },
    {
     "data": {
      "application/javascript": [
       "\n",
       "            setTimeout(function() {\n",
       "                var nbb_cell_id = 27;\n",
       "                var nbb_unformatted_code = \"#Number of Unique Items=179\\n#Average Purchase Price=3.050987179487176\\n#Total Number of Purchases=780\\n#Revenue =2379.77\\n\\n# Create new DataFrame\\nPurchasing_Analysis_Total = pd.DataFrame({\\\"Number of Unique Items\\\": [NumberofUniqueItems],\\n                                           \\\"Average Price\\\": [AveragePurchasePrice],\\n                                           \\\"Number of Purchases\\\": [TotalNumberofPurchases],\\n                                           \\\"Total Revenue\\\": [Revenue]})\\nPurchasing_Analysis_Total[\\\"Average Price\\\"] = Purchasing_Analysis_Total[\\\"Average Price\\\"].map(\\\"${:,.2f}\\\".format)\\nPurchasing_Analysis_Total[\\\"Total Revenue\\\"] = Purchasing_Analysis_Total[\\\"Total Revenue\\\"].map(\\\"${:,.2f}\\\".format)\\nPurchasing_Analysis_Total[\\\"Number of Unique Items\\\"] = Purchasing_Analysis_Total[\\\"Number of Unique Items\\\"].map(\\\"{:,}\\\".format)\\nPurchasing_Analysis_Total[\\\"Number of Purchases\\\"] = Purchasing_Analysis_Total[\\\"Number of Purchases\\\"].map(\\\"{:,}\\\".format)\\n\\nPurchasing_Analysis_Total\";\n",
       "                var nbb_formatted_code = \"# Number of Unique Items=179\\n# Average Purchase Price=3.050987179487176\\n# Total Number of Purchases=780\\n# Revenue =2379.77\\n\\n# Create new DataFrame\\nPurchasing_Analysis_Total = pd.DataFrame(\\n    {\\n        \\\"Number of Unique Items\\\": [NumberofUniqueItems],\\n        \\\"Average Price\\\": [AveragePurchasePrice],\\n        \\\"Number of Purchases\\\": [TotalNumberofPurchases],\\n        \\\"Total Revenue\\\": [Revenue],\\n    }\\n)\\nPurchasing_Analysis_Total[\\\"Average Price\\\"] = Purchasing_Analysis_Total[\\n    \\\"Average Price\\\"\\n].map(\\\"${:,.2f}\\\".format)\\nPurchasing_Analysis_Total[\\\"Total Revenue\\\"] = Purchasing_Analysis_Total[\\n    \\\"Total Revenue\\\"\\n].map(\\\"${:,.2f}\\\".format)\\nPurchasing_Analysis_Total[\\\"Number of Unique Items\\\"] = Purchasing_Analysis_Total[\\n    \\\"Number of Unique Items\\\"\\n].map(\\\"{:,}\\\".format)\\nPurchasing_Analysis_Total[\\\"Number of Purchases\\\"] = Purchasing_Analysis_Total[\\n    \\\"Number of Purchases\\\"\\n].map(\\\"{:,}\\\".format)\\n\\nPurchasing_Analysis_Total\";\n",
       "                var nbb_cells = Jupyter.notebook.get_cells();\n",
       "                for (var i = 0; i < nbb_cells.length; ++i) {\n",
       "                    if (nbb_cells[i].input_prompt_number == nbb_cell_id) {\n",
       "                        if (nbb_cells[i].get_text() == nbb_unformatted_code) {\n",
       "                             nbb_cells[i].set_text(nbb_formatted_code);\n",
       "                        }\n",
       "                        break;\n",
       "                    }\n",
       "                }\n",
       "            }, 500);\n",
       "            "
      ],
      "text/plain": [
       "<IPython.core.display.Javascript object>"
      ]
     },
     "metadata": {},
     "output_type": "display_data"
    }
   ],
   "source": [
    "#Number of Unique Items=179\n",
    "#Average Purchase Price=3.050987179487176\n",
    "#Total Number of Purchases=780\n",
    "#Revenue =2379.77\n",
    "\n",
    "# Create new DataFrame\n",
    "Purchasing_Analysis_Total = pd.DataFrame({\"Number of Unique Items\": [NumberofUniqueItems],\n",
    "                                           \"Average Price\": [AveragePurchasePrice],\n",
    "                                           \"Number of Purchases\": [TotalNumberofPurchases],\n",
    "                                           \"Total Revenue\": [Revenue]})\n",
    "Purchasing_Analysis_Total[\"Average Price\"] = Purchasing_Analysis_Total[\"Average Price\"].map(\"${:,.2f}\".format)\n",
    "Purchasing_Analysis_Total[\"Total Revenue\"] = Purchasing_Analysis_Total[\"Total Revenue\"].map(\"${:,.2f}\".format)\n",
    "Purchasing_Analysis_Total[\"Number of Unique Items\"] = Purchasing_Analysis_Total[\"Number of Unique Items\"].map(\"{:,}\".format)\n",
    "Purchasing_Analysis_Total[\"Number of Purchases\"] = Purchasing_Analysis_Total[\"Number of Purchases\"].map(\"{:,}\".format)\n",
    "\n",
    "Purchasing_Analysis_Total"
   ]
  },
  {
   "cell_type": "code",
   "execution_count": null,
   "metadata": {},
   "outputs": [],
   "source": [
    "### Gender Demographics"
   ]
  },
  {
   "cell_type": "code",
   "execution_count": 34,
   "metadata": {},
   "outputs": [
    {
     "data": {
      "application/javascript": [
       "\n",
       "            setTimeout(function() {\n",
       "                var nbb_cell_id = 34;\n",
       "                var nbb_unformatted_code = \"totalGender = df_clean[\\\"Gender\\\"].value_counts()\\ntotal_precent=totalGender/ numberofplayer \";\n",
       "                var nbb_formatted_code = \"totalGender = df_clean[\\\"Gender\\\"].value_counts()\\ntotal_precent = totalGender / numberofplayer\";\n",
       "                var nbb_cells = Jupyter.notebook.get_cells();\n",
       "                for (var i = 0; i < nbb_cells.length; ++i) {\n",
       "                    if (nbb_cells[i].input_prompt_number == nbb_cell_id) {\n",
       "                        if (nbb_cells[i].get_text() == nbb_unformatted_code) {\n",
       "                             nbb_cells[i].set_text(nbb_formatted_code);\n",
       "                        }\n",
       "                        break;\n",
       "                    }\n",
       "                }\n",
       "            }, 500);\n",
       "            "
      ],
      "text/plain": [
       "<IPython.core.display.Javascript object>"
      ]
     },
     "metadata": {},
     "output_type": "display_data"
    }
   ],
   "source": [
    "totalGender = df_clean[\"Gender\"].value_counts()\n",
    "total_precent=totalGender/ numberofplayer \n"
   ]
  },
  {
   "cell_type": "code",
   "execution_count": null,
   "metadata": {},
   "outputs": [],
   "source": [
    "MalePlayerscount=  df[\"Gender\"].value_counts()[\"Male\"]\n",
    " \n",
    "MalePlayerscount\n"
   ]
  },
  {
   "cell_type": "code",
   "execution_count": null,
   "metadata": {},
   "outputs": [],
   "source": [
    "FemalePlayerscount=  df[\"Gender\"].value_counts()[\"Female\"]\n",
    " \n",
    "FemalePlayerscount"
   ]
  },
  {
   "cell_type": "code",
   "execution_count": null,
   "metadata": {},
   "outputs": [],
   "source": [
    "OtherNonDisclosedPlayerscount=  df[\"Gender\"].value_counts()[\"Other / Non-Disclosed\"]\n",
    " \n",
    "OtherNonDisclosedPlayerscount"
   ]
  },
  {
   "cell_type": "code",
   "execution_count": 32,
   "metadata": {},
   "outputs": [
    {
     "data": {
      "text/html": [
       "<div>\n",
       "<style scoped>\n",
       "    .dataframe tbody tr th:only-of-type {\n",
       "        vertical-align: middle;\n",
       "    }\n",
       "\n",
       "    .dataframe tbody tr th {\n",
       "        vertical-align: top;\n",
       "    }\n",
       "\n",
       "    .dataframe thead th {\n",
       "        text-align: right;\n",
       "    }\n",
       "</style>\n",
       "<table border=\"1\" class=\"dataframe\">\n",
       "  <thead>\n",
       "    <tr style=\"text-align: right;\">\n",
       "      <th></th>\n",
       "      <th>Total Gender</th>\n",
       "      <th>total Precentage</th>\n",
       "    </tr>\n",
       "  </thead>\n",
       "  <tbody>\n",
       "    <tr>\n",
       "      <th>Male</th>\n",
       "      <td>484</td>\n",
       "      <td>84.03%</td>\n",
       "    </tr>\n",
       "    <tr>\n",
       "      <th>Female</th>\n",
       "      <td>81</td>\n",
       "      <td>14.06%</td>\n",
       "    </tr>\n",
       "    <tr>\n",
       "      <th>Other / Non-Disclosed</th>\n",
       "      <td>11</td>\n",
       "      <td>1.91%</td>\n",
       "    </tr>\n",
       "  </tbody>\n",
       "</table>\n",
       "</div>"
      ],
      "text/plain": [
       "                       Total Gender total Precentage\n",
       "Male                            484           84.03%\n",
       "Female                           81           14.06%\n",
       "Other / Non-Disclosed            11            1.91%"
      ]
     },
     "execution_count": 32,
     "metadata": {},
     "output_type": "execute_result"
    },
    {
     "data": {
      "application/javascript": [
       "\n",
       "            setTimeout(function() {\n",
       "                var nbb_cell_id = 32;\n",
       "                var nbb_unformatted_code = \"#Create new DataFrame\\nGenderDemographics = pd.DataFrame({\\\"Total Gender\\\": totalGender,\\n                              \\\"total Precentage\\\": total_precent,\\n                               })\\nGenderDemographics[\\\"total Precentage\\\"] = GenderDemographics[\\\"total Precentage\\\"].map(\\\"{:,.2%}\\\".format)\\nGenderDemographics\";\n",
       "                var nbb_formatted_code = \"# Create new DataFrame\\nGenderDemographics = pd.DataFrame(\\n    {\\\"Total Gender\\\": totalGender, \\\"total Precentage\\\": total_precent,}\\n)\\nGenderDemographics[\\\"total Precentage\\\"] = GenderDemographics[\\\"total Precentage\\\"].map(\\n    \\\"{:,.2%}\\\".format\\n)\\nGenderDemographics\";\n",
       "                var nbb_cells = Jupyter.notebook.get_cells();\n",
       "                for (var i = 0; i < nbb_cells.length; ++i) {\n",
       "                    if (nbb_cells[i].input_prompt_number == nbb_cell_id) {\n",
       "                        if (nbb_cells[i].get_text() == nbb_unformatted_code) {\n",
       "                             nbb_cells[i].set_text(nbb_formatted_code);\n",
       "                        }\n",
       "                        break;\n",
       "                    }\n",
       "                }\n",
       "            }, 500);\n",
       "            "
      ],
      "text/plain": [
       "<IPython.core.display.Javascript object>"
      ]
     },
     "metadata": {},
     "output_type": "display_data"
    }
   ],
   "source": [
    "#Create new DataFrame\n",
    "GenderDemographics = pd.DataFrame({\"Total Gender\": totalGender,\n",
    "                              \"total Precentage\": total_precent,\n",
    "                               })\n",
    "GenderDemographics[\"total Precentage\"] = GenderDemographics[\"total Precentage\"].map(\"{:,.2%}\".format)\n",
    "GenderDemographics"
   ]
  },
  {
   "cell_type": "code",
   "execution_count": null,
   "metadata": {},
   "outputs": [],
   "source": [
    "# Purchasing Analysis (Gender)\n",
    "\n",
    "# * The below each broken by gender\n",
    "#   * Purchase Count\n",
    "#   * Average Purchase Price\n",
    "#   * Total Purchase Value\n",
    "#   * Average Purchase Total per Person by Gender"
   ]
  },
  {
   "cell_type": "code",
   "execution_count": 36,
   "metadata": {},
   "outputs": [
    {
     "data": {
      "text/html": [
       "<div>\n",
       "<style scoped>\n",
       "    .dataframe tbody tr th:only-of-type {\n",
       "        vertical-align: middle;\n",
       "    }\n",
       "\n",
       "    .dataframe tbody tr th {\n",
       "        vertical-align: top;\n",
       "    }\n",
       "\n",
       "    .dataframe thead th {\n",
       "        text-align: right;\n",
       "    }\n",
       "</style>\n",
       "<table border=\"1\" class=\"dataframe\">\n",
       "  <thead>\n",
       "    <tr style=\"text-align: right;\">\n",
       "      <th></th>\n",
       "      <th>Purchase Count</th>\n",
       "      <th>Average Purchase Price</th>\n",
       "      <th>Total Purchase Value</th>\n",
       "      <th>Normalized Totals</th>\n",
       "    </tr>\n",
       "    <tr>\n",
       "      <th>Gender</th>\n",
       "      <th></th>\n",
       "      <th></th>\n",
       "      <th></th>\n",
       "      <th></th>\n",
       "    </tr>\n",
       "  </thead>\n",
       "  <tbody>\n",
       "    <tr>\n",
       "      <th>Female</th>\n",
       "      <td>113</td>\n",
       "      <td>$3.20</td>\n",
       "      <td>$361.94</td>\n",
       "      <td>$4.47</td>\n",
       "    </tr>\n",
       "    <tr>\n",
       "      <th>Male</th>\n",
       "      <td>652</td>\n",
       "      <td>$3.02</td>\n",
       "      <td>$1967.64</td>\n",
       "      <td>$4.07</td>\n",
       "    </tr>\n",
       "    <tr>\n",
       "      <th>Other / Non-Disclosed</th>\n",
       "      <td>15</td>\n",
       "      <td>$3.35</td>\n",
       "      <td>$50.19</td>\n",
       "      <td>$4.56</td>\n",
       "    </tr>\n",
       "  </tbody>\n",
       "</table>\n",
       "</div>"
      ],
      "text/plain": [
       "                       Purchase Count Average Purchase Price  \\\n",
       "Gender                                                         \n",
       "Female                            113                  $3.20   \n",
       "Male                              652                  $3.02   \n",
       "Other / Non-Disclosed              15                  $3.35   \n",
       "\n",
       "                      Total Purchase Value Normalized Totals  \n",
       "Gender                                                        \n",
       "Female                             $361.94             $4.47  \n",
       "Male                              $1967.64             $4.07  \n",
       "Other / Non-Disclosed               $50.19             $4.56  "
      ]
     },
     "execution_count": 36,
     "metadata": {},
     "output_type": "execute_result"
    },
    {
     "data": {
      "application/javascript": [
       "\n",
       "            setTimeout(function() {\n",
       "                var nbb_cell_id = 36;\n",
       "                var nbb_unformatted_code = \"grouped_df = df.groupby([\\\"Gender\\\"])\\n\\n# Data Manipulation\\npurchCount = grouped_df[\\\"SN\\\"].count()\\npurchPrice = grouped_df[\\\"Price\\\"].mean()\\npurchValue = grouped_df[\\\"Price\\\"].sum()\\n\\n# Normalize data by deleting all duplicates adn resort\\nduplicate = df.drop_duplicates(subset='SN', keep=\\\"first\\\")\\ngrouped_dup = duplicate.groupby([\\\"Gender\\\"])\\n\\n# Find normalized data\\npurchNorm = (grouped_df[\\\"Price\\\"].sum() / grouped_dup[\\\"SN\\\"].count())\\n\\n# Create new DataFrame\\nAveragePurchaseTotalperPerson = pd.DataFrame({\\\"Purchase Count\\\": purchCount,\\n                              \\\"Average Purchase Price\\\": purchPrice,\\n                              \\\"Total Purchase Value\\\": purchValue,\\n                              \\\"Normalized Totals\\\": purchNorm})\\n\\n# DataFrame formatting\\nAveragePurchaseTotalperPerson[\\\"Average Purchase Price\\\"] = AveragePurchaseTotalperPerson[\\\"Average Purchase Price\\\"].map(\\\"${:.2f}\\\".format)\\nAveragePurchaseTotalperPerson[\\\"Total Purchase Value\\\"] = AveragePurchaseTotalperPerson[\\\"Total Purchase Value\\\"].map(\\\"${:.2f}\\\".format)\\nAveragePurchaseTotalperPerson[\\\"Normalized Totals\\\"] = AveragePurchaseTotalperPerson[\\\"Normalized Totals\\\"].map(\\\"${:.2f}\\\".format)\\nAveragePurchaseTotalperPerson = AveragePurchaseTotalperPerson[[\\\"Purchase Count\\\", \\\"Average Purchase Price\\\", \\\"Total Purchase Value\\\", \\\"Normalized Totals\\\"]]\\nAveragePurchaseTotalperPerson\";\n",
       "                var nbb_formatted_code = \"grouped_df = df.groupby([\\\"Gender\\\"])\\n\\n# Data Manipulation\\npurchCount = grouped_df[\\\"SN\\\"].count()\\npurchPrice = grouped_df[\\\"Price\\\"].mean()\\npurchValue = grouped_df[\\\"Price\\\"].sum()\\n\\n# Normalize data by deleting all duplicates adn resort\\nduplicate = df.drop_duplicates(subset=\\\"SN\\\", keep=\\\"first\\\")\\ngrouped_dup = duplicate.groupby([\\\"Gender\\\"])\\n\\n# Find normalized data\\npurchNorm = grouped_df[\\\"Price\\\"].sum() / grouped_dup[\\\"SN\\\"].count()\\n\\n# Create new DataFrame\\nAveragePurchaseTotalperPerson = pd.DataFrame(\\n    {\\n        \\\"Purchase Count\\\": purchCount,\\n        \\\"Average Purchase Price\\\": purchPrice,\\n        \\\"Total Purchase Value\\\": purchValue,\\n        \\\"Normalized Totals\\\": purchNorm,\\n    }\\n)\\n\\n# DataFrame formatting\\nAveragePurchaseTotalperPerson[\\\"Average Purchase Price\\\"] = AveragePurchaseTotalperPerson[\\n    \\\"Average Purchase Price\\\"\\n].map(\\\"${:.2f}\\\".format)\\nAveragePurchaseTotalperPerson[\\\"Total Purchase Value\\\"] = AveragePurchaseTotalperPerson[\\n    \\\"Total Purchase Value\\\"\\n].map(\\\"${:.2f}\\\".format)\\nAveragePurchaseTotalperPerson[\\\"Normalized Totals\\\"] = AveragePurchaseTotalperPerson[\\n    \\\"Normalized Totals\\\"\\n].map(\\\"${:.2f}\\\".format)\\nAveragePurchaseTotalperPerson = AveragePurchaseTotalperPerson[\\n    [\\n        \\\"Purchase Count\\\",\\n        \\\"Average Purchase Price\\\",\\n        \\\"Total Purchase Value\\\",\\n        \\\"Normalized Totals\\\",\\n    ]\\n]\\nAveragePurchaseTotalperPerson\";\n",
       "                var nbb_cells = Jupyter.notebook.get_cells();\n",
       "                for (var i = 0; i < nbb_cells.length; ++i) {\n",
       "                    if (nbb_cells[i].input_prompt_number == nbb_cell_id) {\n",
       "                        if (nbb_cells[i].get_text() == nbb_unformatted_code) {\n",
       "                             nbb_cells[i].set_text(nbb_formatted_code);\n",
       "                        }\n",
       "                        break;\n",
       "                    }\n",
       "                }\n",
       "            }, 500);\n",
       "            "
      ],
      "text/plain": [
       "<IPython.core.display.Javascript object>"
      ]
     },
     "metadata": {},
     "output_type": "display_data"
    }
   ],
   "source": [
    "grouped_df = df.groupby([\"Gender\"])\n",
    "\n",
    "# Data Manipulation\n",
    "purchCount = grouped_df[\"SN\"].count()\n",
    "purchPrice = grouped_df[\"Price\"].mean()\n",
    "purchValue = grouped_df[\"Price\"].sum()\n",
    "\n",
    "# Normalize data by deleting all duplicates adn resort\n",
    "duplicate = df.drop_duplicates(subset='SN', keep=\"first\")\n",
    "grouped_dup = duplicate.groupby([\"Gender\"])\n",
    "\n",
    "# Find normalized data\n",
    "purchNorm = (grouped_df[\"Price\"].sum() / grouped_dup[\"SN\"].count())\n",
    "\n",
    "# Create new DataFrame\n",
    "AveragePurchaseTotalperPerson = pd.DataFrame({\"Purchase Count\": purchCount,\n",
    "                              \"Average Purchase Price\": purchPrice,\n",
    "                              \"Total Purchase Value\": purchValue,\n",
    "                              \"Normalized Totals\": purchNorm})\n",
    "\n",
    "# DataFrame formatting\n",
    "AveragePurchaseTotalperPerson[\"Average Purchase Price\"] = AveragePurchaseTotalperPerson[\"Average Purchase Price\"].map(\"${:.2f}\".format)\n",
    "AveragePurchaseTotalperPerson[\"Total Purchase Value\"] = AveragePurchaseTotalperPerson[\"Total Purchase Value\"].map(\"${:.2f}\".format)\n",
    "AveragePurchaseTotalperPerson[\"Normalized Totals\"] = AveragePurchaseTotalperPerson[\"Normalized Totals\"].map(\"${:.2f}\".format)\n",
    "AveragePurchaseTotalperPerson = AveragePurchaseTotalperPerson[[\"Purchase Count\", \"Average Purchase Price\", \"Total Purchase Value\", \"Normalized Totals\"]]\n",
    "AveragePurchaseTotalperPerson\n"
   ]
  },
  {
   "cell_type": "code",
   "execution_count": 37,
   "metadata": {},
   "outputs": [
    {
     "data": {
      "application/javascript": [
       "\n",
       "            setTimeout(function() {\n",
       "                var nbb_cell_id = 37;\n",
       "                var nbb_unformatted_code = \"# Age Demographics\\n\\n# * The below each broken into bins of 4 years (i.e. &lt;10, 10-14, 15-19, etc.)\\n#   * Purchase Count\\n#   * Average Purchase Price\\n#   * Total Purchase Value\\n#   * Average Purchase Total per Person by Age Group\";\n",
       "                var nbb_formatted_code = \"# Age Demographics\\n\\n# * The below each broken into bins of 4 years (i.e. &lt;10, 10-14, 15-19, etc.)\\n#   * Purchase Count\\n#   * Average Purchase Price\\n#   * Total Purchase Value\\n#   * Average Purchase Total per Person by Age Group\";\n",
       "                var nbb_cells = Jupyter.notebook.get_cells();\n",
       "                for (var i = 0; i < nbb_cells.length; ++i) {\n",
       "                    if (nbb_cells[i].input_prompt_number == nbb_cell_id) {\n",
       "                        if (nbb_cells[i].get_text() == nbb_unformatted_code) {\n",
       "                             nbb_cells[i].set_text(nbb_formatted_code);\n",
       "                        }\n",
       "                        break;\n",
       "                    }\n",
       "                }\n",
       "            }, 500);\n",
       "            "
      ],
      "text/plain": [
       "<IPython.core.display.Javascript object>"
      ]
     },
     "metadata": {},
     "output_type": "display_data"
    }
   ],
   "source": [
    "# Age Demographics\n",
    "\n",
    "# * The below each broken into bins of 4 years (i.e. &lt;10, 10-14, 15-19, etc.)\n",
    "#   * Purchase Count\n",
    "#   * Average Purchase Price\n",
    "#   * Total Purchase Value\n",
    "#   * Average Purchase Total per Person by Age Group\n"
   ]
  },
  {
   "cell_type": "code",
   "execution_count": 38,
   "metadata": {},
   "outputs": [
    {
     "data": {
      "text/html": [
       "<div>\n",
       "<style scoped>\n",
       "    .dataframe tbody tr th:only-of-type {\n",
       "        vertical-align: middle;\n",
       "    }\n",
       "\n",
       "    .dataframe tbody tr th {\n",
       "        vertical-align: top;\n",
       "    }\n",
       "\n",
       "    .dataframe thead th {\n",
       "        text-align: right;\n",
       "    }\n",
       "</style>\n",
       "<table border=\"1\" class=\"dataframe\">\n",
       "  <thead>\n",
       "    <tr style=\"text-align: right;\">\n",
       "      <th></th>\n",
       "      <th>Total Count</th>\n",
       "      <th>Percentage of Players</th>\n",
       "    </tr>\n",
       "    <tr>\n",
       "      <th>Age Groups</th>\n",
       "      <th></th>\n",
       "      <th></th>\n",
       "    </tr>\n",
       "  </thead>\n",
       "  <tbody>\n",
       "    <tr>\n",
       "      <th>Under 10</th>\n",
       "      <td>32</td>\n",
       "      <td>4.10%</td>\n",
       "    </tr>\n",
       "    <tr>\n",
       "      <th>10 - 14</th>\n",
       "      <td>54</td>\n",
       "      <td>6.92%</td>\n",
       "    </tr>\n",
       "    <tr>\n",
       "      <th>15 - 19</th>\n",
       "      <td>200</td>\n",
       "      <td>25.64%</td>\n",
       "    </tr>\n",
       "    <tr>\n",
       "      <th>20 - 24</th>\n",
       "      <td>325</td>\n",
       "      <td>41.67%</td>\n",
       "    </tr>\n",
       "    <tr>\n",
       "      <th>25 - 29</th>\n",
       "      <td>77</td>\n",
       "      <td>9.87%</td>\n",
       "    </tr>\n",
       "    <tr>\n",
       "      <th>30 - 34</th>\n",
       "      <td>52</td>\n",
       "      <td>6.67%</td>\n",
       "    </tr>\n",
       "    <tr>\n",
       "      <th>35 - 39</th>\n",
       "      <td>33</td>\n",
       "      <td>4.23%</td>\n",
       "    </tr>\n",
       "    <tr>\n",
       "      <th>Over 40</th>\n",
       "      <td>7</td>\n",
       "      <td>0.90%</td>\n",
       "    </tr>\n",
       "  </tbody>\n",
       "</table>\n",
       "</div>"
      ],
      "text/plain": [
       "            Total Count Percentage of Players\n",
       "Age Groups                                   \n",
       "Under 10             32                 4.10%\n",
       "10 - 14              54                 6.92%\n",
       "15 - 19             200                25.64%\n",
       "20 - 24             325                41.67%\n",
       "25 - 29              77                 9.87%\n",
       "30 - 34              52                 6.67%\n",
       "35 - 39              33                 4.23%\n",
       "Over 40               7                 0.90%"
      ]
     },
     "execution_count": 38,
     "metadata": {},
     "output_type": "execute_result"
    },
    {
     "data": {
      "application/javascript": [
       "\n",
       "            setTimeout(function() {\n",
       "                var nbb_cell_id = 38;\n",
       "                var nbb_unformatted_code = \"bins = [0,10,15,20,25,30,35,40,200]\\nbinLab = ['Under 10', '10 - 14', '15 - 19', '20 - 24', '25 - 29', '30 - 34', '35 - 39', 'Over 40']\\n\\n# Add bins to new dataframe and groupby\\nbinner_df = df.copy()\\nbinner_df[\\\"Age Groups\\\"] = pd.cut(binner_df[\\\"Age\\\"], bins, labels=binLab)\\ngroup_bin = binner_df.groupby([\\\"Age Groups\\\"])\\n\\n# Data manipulation\\nbinnerCount = group_bin[\\\"SN\\\"].count()\\ncountTotal = df[\\\"SN\\\"].count()\\npercentage = (binnerCount / countTotal) * 100\\npercentage\\n\\n# Create new DataFrame\\nAveragePurchasebyAgeGroup = pd.DataFrame({\\\"Total Count\\\": binnerCount,\\n                         \\\"Percentage of Players\\\": percentage})\\n\\n# DataFrame formatting\\nAveragePurchasebyAgeGroup[\\\"Percentage of Players\\\"] = AveragePurchasebyAgeGroup[\\\"Percentage of Players\\\"].map(\\\"{:.2f}%\\\".format)\\nAveragePurchasebyAgeGroup.head(20)\";\n",
       "                var nbb_formatted_code = \"bins = [0, 10, 15, 20, 25, 30, 35, 40, 200]\\nbinLab = [\\n    \\\"Under 10\\\",\\n    \\\"10 - 14\\\",\\n    \\\"15 - 19\\\",\\n    \\\"20 - 24\\\",\\n    \\\"25 - 29\\\",\\n    \\\"30 - 34\\\",\\n    \\\"35 - 39\\\",\\n    \\\"Over 40\\\",\\n]\\n\\n# Add bins to new dataframe and groupby\\nbinner_df = df.copy()\\nbinner_df[\\\"Age Groups\\\"] = pd.cut(binner_df[\\\"Age\\\"], bins, labels=binLab)\\ngroup_bin = binner_df.groupby([\\\"Age Groups\\\"])\\n\\n# Data manipulation\\nbinnerCount = group_bin[\\\"SN\\\"].count()\\ncountTotal = df[\\\"SN\\\"].count()\\npercentage = (binnerCount / countTotal) * 100\\npercentage\\n\\n# Create new DataFrame\\nAveragePurchasebyAgeGroup = pd.DataFrame(\\n    {\\\"Total Count\\\": binnerCount, \\\"Percentage of Players\\\": percentage}\\n)\\n\\n# DataFrame formatting\\nAveragePurchasebyAgeGroup[\\\"Percentage of Players\\\"] = AveragePurchasebyAgeGroup[\\n    \\\"Percentage of Players\\\"\\n].map(\\\"{:.2f}%\\\".format)\\nAveragePurchasebyAgeGroup.head(20)\";\n",
       "                var nbb_cells = Jupyter.notebook.get_cells();\n",
       "                for (var i = 0; i < nbb_cells.length; ++i) {\n",
       "                    if (nbb_cells[i].input_prompt_number == nbb_cell_id) {\n",
       "                        if (nbb_cells[i].get_text() == nbb_unformatted_code) {\n",
       "                             nbb_cells[i].set_text(nbb_formatted_code);\n",
       "                        }\n",
       "                        break;\n",
       "                    }\n",
       "                }\n",
       "            }, 500);\n",
       "            "
      ],
      "text/plain": [
       "<IPython.core.display.Javascript object>"
      ]
     },
     "metadata": {},
     "output_type": "display_data"
    }
   ],
   "source": [
    "bins = [0,10,15,20,25,30,35,40,200]\n",
    "binLab = ['Under 10', '10 - 14', '15 - 19', '20 - 24', '25 - 29', '30 - 34', '35 - 39', 'Over 40']\n",
    "\n",
    "# Add bins to new dataframe and groupby\n",
    "binner_df = df.copy()\n",
    "binner_df[\"Age Groups\"] = pd.cut(binner_df[\"Age\"], bins, labels=binLab)\n",
    "group_bin = binner_df.groupby([\"Age Groups\"])\n",
    "\n",
    "# Data manipulation\n",
    "binnerCount = group_bin[\"SN\"].count()\n",
    "countTotal = df[\"SN\"].count()\n",
    "percentage = (binnerCount / countTotal) * 100\n",
    "percentage\n",
    "\n",
    "# Create new DataFrame\n",
    "AveragePurchasebyAgeGroup = pd.DataFrame({\"Total Count\": binnerCount,\n",
    "                         \"Percentage of Players\": percentage})\n",
    "\n",
    "# DataFrame formatting\n",
    "AveragePurchasebyAgeGroup[\"Percentage of Players\"] = AveragePurchasebyAgeGroup[\"Percentage of Players\"].map(\"{:.2f}%\".format)\n",
    "AveragePurchasebyAgeGroup.head(20)"
   ]
  },
  {
   "cell_type": "code",
   "execution_count": 39,
   "metadata": {},
   "outputs": [
    {
     "data": {
      "application/javascript": [
       "\n",
       "            setTimeout(function() {\n",
       "                var nbb_cell_id = 39;\n",
       "                var nbb_unformatted_code = \"# Top Spenders\\n\\n# * Identify the the top 5 spenders in the game by total purchase value, then list (in a table):\\n#   * SN\\n#   * Purchase Count\\n#   * Average Purchase Price\\n#   * Total Purchase Value\";\n",
       "                var nbb_formatted_code = \"# Top Spenders\\n\\n# * Identify the the top 5 spenders in the game by total purchase value, then list (in a table):\\n#   * SN\\n#   * Purchase Count\\n#   * Average Purchase Price\\n#   * Total Purchase Value\";\n",
       "                var nbb_cells = Jupyter.notebook.get_cells();\n",
       "                for (var i = 0; i < nbb_cells.length; ++i) {\n",
       "                    if (nbb_cells[i].input_prompt_number == nbb_cell_id) {\n",
       "                        if (nbb_cells[i].get_text() == nbb_unformatted_code) {\n",
       "                             nbb_cells[i].set_text(nbb_formatted_code);\n",
       "                        }\n",
       "                        break;\n",
       "                    }\n",
       "                }\n",
       "            }, 500);\n",
       "            "
      ],
      "text/plain": [
       "<IPython.core.display.Javascript object>"
      ]
     },
     "metadata": {},
     "output_type": "display_data"
    }
   ],
   "source": [
    "# Top Spenders\n",
    "\n",
    "# * Identify the the top 5 spenders in the game by total purchase value, then list (in a table):\n",
    "#   * SN\n",
    "#   * Purchase Count\n",
    "#   * Average Purchase Price\n",
    "#   * Total Purchase Value\n"
   ]
  },
  {
   "cell_type": "code",
   "execution_count": 41,
   "metadata": {},
   "outputs": [
    {
     "name": "stderr",
     "output_type": "stream",
     "text": [
      "/opt/conda/lib/python3.7/site-packages/ipykernel_launcher.py:18: SettingWithCopyWarning: \n",
      "A value is trying to be set on a copy of a slice from a DataFrame.\n",
      "Try using .loc[row_indexer,col_indexer] = value instead\n",
      "\n",
      "See the caveats in the documentation: https://pandas.pydata.org/pandas-docs/stable/user_guide/indexing.html#returning-a-view-versus-a-copy\n"
     ]
    },
    {
     "data": {
      "text/html": [
       "<div>\n",
       "<style scoped>\n",
       "    .dataframe tbody tr th:only-of-type {\n",
       "        vertical-align: middle;\n",
       "    }\n",
       "\n",
       "    .dataframe tbody tr th {\n",
       "        vertical-align: top;\n",
       "    }\n",
       "\n",
       "    .dataframe thead th {\n",
       "        text-align: right;\n",
       "    }\n",
       "</style>\n",
       "<table border=\"1\" class=\"dataframe\">\n",
       "  <thead>\n",
       "    <tr style=\"text-align: right;\">\n",
       "      <th></th>\n",
       "      <th>Purchase Count</th>\n",
       "      <th>Average Purchase Price</th>\n",
       "      <th>Total Purchase Value</th>\n",
       "      <th>Normalized Totals</th>\n",
       "    </tr>\n",
       "    <tr>\n",
       "      <th>Age Groups</th>\n",
       "      <th></th>\n",
       "      <th></th>\n",
       "      <th></th>\n",
       "      <th></th>\n",
       "    </tr>\n",
       "  </thead>\n",
       "  <tbody>\n",
       "    <tr>\n",
       "      <th>Under 10</th>\n",
       "      <td>32</td>\n",
       "      <td>$3.40</td>\n",
       "      <td>$108.96</td>\n",
       "      <td>$4.54</td>\n",
       "    </tr>\n",
       "    <tr>\n",
       "      <th>10 - 14</th>\n",
       "      <td>54</td>\n",
       "      <td>$2.90</td>\n",
       "      <td>$156.60</td>\n",
       "      <td>$3.82</td>\n",
       "    </tr>\n",
       "    <tr>\n",
       "      <th>15 - 19</th>\n",
       "      <td>200</td>\n",
       "      <td>$3.11</td>\n",
       "      <td>$621.56</td>\n",
       "      <td>$4.14</td>\n",
       "    </tr>\n",
       "    <tr>\n",
       "      <th>20 - 24</th>\n",
       "      <td>325</td>\n",
       "      <td>$3.02</td>\n",
       "      <td>$981.64</td>\n",
       "      <td>$4.23</td>\n",
       "    </tr>\n",
       "    <tr>\n",
       "      <th>25 - 29</th>\n",
       "      <td>77</td>\n",
       "      <td>$2.88</td>\n",
       "      <td>$221.42</td>\n",
       "      <td>$3.75</td>\n",
       "    </tr>\n",
       "  </tbody>\n",
       "</table>\n",
       "</div>"
      ],
      "text/plain": [
       "            Purchase Count Average Purchase Price Total Purchase Value  \\\n",
       "Age Groups                                                               \n",
       "Under 10                32                  $3.40              $108.96   \n",
       "10 - 14                 54                  $2.90              $156.60   \n",
       "15 - 19                200                  $3.11              $621.56   \n",
       "20 - 24                325                  $3.02              $981.64   \n",
       "25 - 29                 77                  $2.88              $221.42   \n",
       "\n",
       "           Normalized Totals  \n",
       "Age Groups                    \n",
       "Under 10               $4.54  \n",
       "10 - 14                $3.82  \n",
       "15 - 19                $4.14  \n",
       "20 - 24                $4.23  \n",
       "25 - 29                $3.75  "
      ]
     },
     "execution_count": 41,
     "metadata": {},
     "output_type": "execute_result"
    },
    {
     "data": {
      "application/javascript": [
       "\n",
       "            setTimeout(function() {\n",
       "                var nbb_cell_id = 41;\n",
       "                var nbb_unformatted_code = \"# Binning\\nbins = [0,10,15,20,25,30,35,40,200]\\nbinLab = ['Under 10', '10 - 14', '15 - 19', '20 - 24', '25 - 29', '30 - 34', '35 - 39', 'Over 40']\\n\\n# Add bins to new dataframe and groupby\\nbinning_df = df.copy()\\nbinning_df[\\\"Age Groups\\\"] = pd.cut(binning_df[\\\"Age\\\"], bins, labels=binLab)\\nbinColumn = pd.cut(binning_df[\\\"Age\\\"], bins, labels=binLab)\\ngrouped_bin = binning_df.groupby([\\\"Age Groups\\\"])\\n\\n# Data Manipulation\\nbinPCount = grouped_bin[\\\"Age\\\"].count()\\nbinPAver = grouped_bin[\\\"Price\\\"].mean()\\nbinPTotal = grouped_bin[\\\"Price\\\"].sum()\\n\\n# Normalize data by deleting duplicates for new counts\\nbinningduplicate = df.drop_duplicates(subset='SN', keep=\\\"first\\\")\\nbinningduplicate[\\\"Age Groups\\\"] = pd.cut(binningduplicate[\\\"Age\\\"], bins, labels=binLab)\\nbinningduplicate = binningduplicate.groupby([\\\"Age Groups\\\"])\\n\\nbinningNorm = (grouped_bin[\\\"Price\\\"].sum() / binningduplicate[\\\"SN\\\"].count())\\nbinningNorm\\n\\n# Create new DF and format\\nTopFiveSpender = pd.DataFrame({\\\"Purchase Count\\\": binPCount,\\n                         \\\"Average Purchase Price\\\": binPAver,\\n                         \\\"Total Purchase Value\\\": binPTotal,\\n                         \\\"Normalized Totals\\\": binningNorm})\\n\\nTopFiveSpender[\\\"Average Purchase Price\\\"] = TopFiveSpender[\\\"Average Purchase Price\\\"].map(\\\"${:.2f}\\\".format)\\nTopFiveSpender[\\\"Total Purchase Value\\\"] = TopFiveSpender[\\\"Total Purchase Value\\\"].map(\\\"${:.2f}\\\".format)\\nTopFiveSpender[\\\"Normalized Totals\\\"] = TopFiveSpender[\\\"Normalized Totals\\\"].map(\\\"${:.2f}\\\".format)\\nTopFiveSpender = TopFiveSpender[[\\\"Purchase Count\\\", \\\"Average Purchase Price\\\", \\\"Total Purchase Value\\\", \\\"Normalized Totals\\\"]]\\nTopFiveSpender.head()\";\n",
       "                var nbb_formatted_code = \"# Binning\\nbins = [0, 10, 15, 20, 25, 30, 35, 40, 200]\\nbinLab = [\\n    \\\"Under 10\\\",\\n    \\\"10 - 14\\\",\\n    \\\"15 - 19\\\",\\n    \\\"20 - 24\\\",\\n    \\\"25 - 29\\\",\\n    \\\"30 - 34\\\",\\n    \\\"35 - 39\\\",\\n    \\\"Over 40\\\",\\n]\\n\\n# Add bins to new dataframe and groupby\\nbinning_df = df.copy()\\nbinning_df[\\\"Age Groups\\\"] = pd.cut(binning_df[\\\"Age\\\"], bins, labels=binLab)\\nbinColumn = pd.cut(binning_df[\\\"Age\\\"], bins, labels=binLab)\\ngrouped_bin = binning_df.groupby([\\\"Age Groups\\\"])\\n\\n# Data Manipulation\\nbinPCount = grouped_bin[\\\"Age\\\"].count()\\nbinPAver = grouped_bin[\\\"Price\\\"].mean()\\nbinPTotal = grouped_bin[\\\"Price\\\"].sum()\\n\\n# Normalize data by deleting duplicates for new counts\\nbinningduplicate = df.drop_duplicates(subset=\\\"SN\\\", keep=\\\"first\\\")\\nbinningduplicate[\\\"Age Groups\\\"] = pd.cut(binningduplicate[\\\"Age\\\"], bins, labels=binLab)\\nbinningduplicate = binningduplicate.groupby([\\\"Age Groups\\\"])\\n\\nbinningNorm = grouped_bin[\\\"Price\\\"].sum() / binningduplicate[\\\"SN\\\"].count()\\nbinningNorm\\n\\n# Create new DF and format\\nTopFiveSpender = pd.DataFrame(\\n    {\\n        \\\"Purchase Count\\\": binPCount,\\n        \\\"Average Purchase Price\\\": binPAver,\\n        \\\"Total Purchase Value\\\": binPTotal,\\n        \\\"Normalized Totals\\\": binningNorm,\\n    }\\n)\\n\\nTopFiveSpender[\\\"Average Purchase Price\\\"] = TopFiveSpender[\\\"Average Purchase Price\\\"].map(\\n    \\\"${:.2f}\\\".format\\n)\\nTopFiveSpender[\\\"Total Purchase Value\\\"] = TopFiveSpender[\\\"Total Purchase Value\\\"].map(\\n    \\\"${:.2f}\\\".format\\n)\\nTopFiveSpender[\\\"Normalized Totals\\\"] = TopFiveSpender[\\\"Normalized Totals\\\"].map(\\n    \\\"${:.2f}\\\".format\\n)\\nTopFiveSpender = TopFiveSpender[\\n    [\\n        \\\"Purchase Count\\\",\\n        \\\"Average Purchase Price\\\",\\n        \\\"Total Purchase Value\\\",\\n        \\\"Normalized Totals\\\",\\n    ]\\n]\\nTopFiveSpender.head()\";\n",
       "                var nbb_cells = Jupyter.notebook.get_cells();\n",
       "                for (var i = 0; i < nbb_cells.length; ++i) {\n",
       "                    if (nbb_cells[i].input_prompt_number == nbb_cell_id) {\n",
       "                        if (nbb_cells[i].get_text() == nbb_unformatted_code) {\n",
       "                             nbb_cells[i].set_text(nbb_formatted_code);\n",
       "                        }\n",
       "                        break;\n",
       "                    }\n",
       "                }\n",
       "            }, 500);\n",
       "            "
      ],
      "text/plain": [
       "<IPython.core.display.Javascript object>"
      ]
     },
     "metadata": {},
     "output_type": "display_data"
    }
   ],
   "source": [
    "# Binning\n",
    "bins = [0,10,15,20,25,30,35,40,200]\n",
    "binLab = ['Under 10', '10 - 14', '15 - 19', '20 - 24', '25 - 29', '30 - 34', '35 - 39', 'Over 40']\n",
    "\n",
    "# Add bins to new dataframe and groupby\n",
    "binning_df = df.copy()\n",
    "binning_df[\"Age Groups\"] = pd.cut(binning_df[\"Age\"], bins, labels=binLab)\n",
    "binColumn = pd.cut(binning_df[\"Age\"], bins, labels=binLab)\n",
    "grouped_bin = binning_df.groupby([\"Age Groups\"])\n",
    "\n",
    "# Data Manipulation\n",
    "binPCount = grouped_bin[\"Age\"].count()\n",
    "binPAver = grouped_bin[\"Price\"].mean()\n",
    "binPTotal = grouped_bin[\"Price\"].sum()\n",
    "\n",
    "# Normalize data by deleting duplicates for new counts\n",
    "binningduplicate = df.drop_duplicates(subset='SN', keep=\"first\")\n",
    "binningduplicate[\"Age Groups\"] = pd.cut(binningduplicate[\"Age\"], bins, labels=binLab)\n",
    "binningduplicate = binningduplicate.groupby([\"Age Groups\"])\n",
    "\n",
    "binningNorm = (grouped_bin[\"Price\"].sum() / binningduplicate[\"SN\"].count())\n",
    "binningNorm\n",
    "\n",
    "# Create new DF and format\n",
    "TopFiveSpender = pd.DataFrame({\"Purchase Count\": binPCount,\n",
    "                         \"Average Purchase Price\": binPAver,\n",
    "                         \"Total Purchase Value\": binPTotal,\n",
    "                         \"Normalized Totals\": binningNorm})\n",
    "\n",
    "TopFiveSpender[\"Average Purchase Price\"] = TopFiveSpender[\"Average Purchase Price\"].map(\"${:.2f}\".format)\n",
    "TopFiveSpender[\"Total Purchase Value\"] = TopFiveSpender[\"Total Purchase Value\"].map(\"${:.2f}\".format)\n",
    "TopFiveSpender[\"Normalized Totals\"] = TopFiveSpender[\"Normalized Totals\"].map(\"${:.2f}\".format)\n",
    "TopFiveSpender = TopFiveSpender[[\"Purchase Count\", \"Average Purchase Price\", \"Total Purchase Value\", \"Normalized Totals\"]]\n",
    "TopFiveSpender.head()"
   ]
  },
  {
   "cell_type": "code",
   "execution_count": 42,
   "metadata": {},
   "outputs": [
    {
     "data": {
      "application/javascript": [
       "\n",
       "            setTimeout(function() {\n",
       "                var nbb_cell_id = 42;\n",
       "                var nbb_unformatted_code = \"#  Most Popular Items\\n\\n# * Identify the 5 most popular items by purchase count, then list (in a table):\\n#   * Item ID\\n#   * Item Name\\n#   * Purchase Count\\n#   * Item Price\\n#   * Total Purchase Value\";\n",
       "                var nbb_formatted_code = \"#  Most Popular Items\\n\\n# * Identify the 5 most popular items by purchase count, then list (in a table):\\n#   * Item ID\\n#   * Item Name\\n#   * Purchase Count\\n#   * Item Price\\n#   * Total Purchase Value\";\n",
       "                var nbb_cells = Jupyter.notebook.get_cells();\n",
       "                for (var i = 0; i < nbb_cells.length; ++i) {\n",
       "                    if (nbb_cells[i].input_prompt_number == nbb_cell_id) {\n",
       "                        if (nbb_cells[i].get_text() == nbb_unformatted_code) {\n",
       "                             nbb_cells[i].set_text(nbb_formatted_code);\n",
       "                        }\n",
       "                        break;\n",
       "                    }\n",
       "                }\n",
       "            }, 500);\n",
       "            "
      ],
      "text/plain": [
       "<IPython.core.display.Javascript object>"
      ]
     },
     "metadata": {},
     "output_type": "display_data"
    }
   ],
   "source": [
    "#  Most Popular Items\n",
    "\n",
    "# * Identify the 5 most popular items by purchase count, then list (in a table):\n",
    "#   * Item ID\n",
    "#   * Item Name\n",
    "#   * Purchase Count\n",
    "#   * Item Price\n",
    "#   * Total Purchase Value"
   ]
  },
  {
   "cell_type": "code",
   "execution_count": 49,
   "metadata": {},
   "outputs": [
    {
     "data": {
      "text/html": [
       "<div>\n",
       "<style scoped>\n",
       "    .dataframe tbody tr th:only-of-type {\n",
       "        vertical-align: middle;\n",
       "    }\n",
       "\n",
       "    .dataframe tbody tr th {\n",
       "        vertical-align: top;\n",
       "    }\n",
       "\n",
       "    .dataframe thead th {\n",
       "        text-align: right;\n",
       "    }\n",
       "</style>\n",
       "<table border=\"1\" class=\"dataframe\">\n",
       "  <thead>\n",
       "    <tr style=\"text-align: right;\">\n",
       "      <th></th>\n",
       "      <th>Purchase Count</th>\n",
       "      <th>Average Purchase Price</th>\n",
       "      <th>Total Purchase Value</th>\n",
       "    </tr>\n",
       "    <tr>\n",
       "      <th>SN</th>\n",
       "      <th></th>\n",
       "      <th></th>\n",
       "      <th></th>\n",
       "    </tr>\n",
       "  </thead>\n",
       "  <tbody>\n",
       "    <tr>\n",
       "      <th>Lisosia93</th>\n",
       "      <td>5</td>\n",
       "      <td>$3.79</td>\n",
       "      <td>$18.96</td>\n",
       "    </tr>\n",
       "    <tr>\n",
       "      <th>Idastidru52</th>\n",
       "      <td>4</td>\n",
       "      <td>$3.86</td>\n",
       "      <td>$15.45</td>\n",
       "    </tr>\n",
       "    <tr>\n",
       "      <th>Chamjask73</th>\n",
       "      <td>3</td>\n",
       "      <td>$4.61</td>\n",
       "      <td>$13.83</td>\n",
       "    </tr>\n",
       "    <tr>\n",
       "      <th>Iral74</th>\n",
       "      <td>4</td>\n",
       "      <td>$3.40</td>\n",
       "      <td>$13.62</td>\n",
       "    </tr>\n",
       "    <tr>\n",
       "      <th>Iskadarya95</th>\n",
       "      <td>3</td>\n",
       "      <td>$4.37</td>\n",
       "      <td>$13.10</td>\n",
       "    </tr>\n",
       "  </tbody>\n",
       "</table>\n",
       "</div>"
      ],
      "text/plain": [
       "             Purchase Count Average Purchase Price Total Purchase Value\n",
       "SN                                                                     \n",
       "Lisosia93                 5                  $3.79               $18.96\n",
       "Idastidru52               4                  $3.86               $15.45\n",
       "Chamjask73                3                  $4.61               $13.83\n",
       "Iral74                    4                  $3.40               $13.62\n",
       "Iskadarya95               3                  $4.37               $13.10"
      ]
     },
     "execution_count": 49,
     "metadata": {},
     "output_type": "execute_result"
    },
    {
     "data": {
      "application/javascript": [
       "\n",
       "            setTimeout(function() {\n",
       "                var nbb_cell_id = 49;\n",
       "                var nbb_unformatted_code = \"groupedBySN = df.groupby([\\\"SN\\\"])\\ngroupedSNCount = groupedBySN[\\\"Item ID\\\"].count()\\ngroupedSNTotal = groupedBySN[\\\"Price\\\"].sum()\\ngroupedSNAvg = (groupedSNTotal / groupedSNCount)\\n\\n# Build DF and format\\nFivemostpopularitemsbyPC = pd.DataFrame({\\\"Purchase Count\\\": groupedSNCount,\\n                         \\\"Average Purchase Price\\\": groupedSNAvg,\\n                         \\\"Total Purchase Value\\\": groupedSNTotal})\\n\\nFivemostpopularitemsbyPC =FivemostpopularitemsbyPC.sort_values(\\\"Total Purchase Value\\\", ascending=False) \\nFivemostpopularitemsbyPC[\\\"Average Purchase Price\\\"] = FivemostpopularitemsbyPC[\\\"Average Purchase Price\\\"].map(\\\"${:.2f}\\\".format)\\nFivemostpopularitemsbyPC[\\\"Total Purchase Value\\\"] = FivemostpopularitemsbyPC[\\\"Total Purchase Value\\\"].map(\\\"${:.2f}\\\".format)\\nFivemostpopularitemsbyPC = FivemostpopularitemsbyPC[[\\\"Purchase Count\\\", \\\"Average Purchase Price\\\", \\\"Total Purchase Value\\\"]]\\nFivemostpopularitemsbyPC.head()\";\n",
       "                var nbb_formatted_code = \"groupedBySN = df.groupby([\\\"SN\\\"])\\ngroupedSNCount = groupedBySN[\\\"Item ID\\\"].count()\\ngroupedSNTotal = groupedBySN[\\\"Price\\\"].sum()\\ngroupedSNAvg = groupedSNTotal / groupedSNCount\\n\\n# Build DF and format\\nFivemostpopularitemsbyPC = pd.DataFrame(\\n    {\\n        \\\"Purchase Count\\\": groupedSNCount,\\n        \\\"Average Purchase Price\\\": groupedSNAvg,\\n        \\\"Total Purchase Value\\\": groupedSNTotal,\\n    }\\n)\\n\\nFivemostpopularitemsbyPC = FivemostpopularitemsbyPC.sort_values(\\n    \\\"Total Purchase Value\\\", ascending=False\\n)\\nFivemostpopularitemsbyPC[\\\"Average Purchase Price\\\"] = FivemostpopularitemsbyPC[\\n    \\\"Average Purchase Price\\\"\\n].map(\\\"${:.2f}\\\".format)\\nFivemostpopularitemsbyPC[\\\"Total Purchase Value\\\"] = FivemostpopularitemsbyPC[\\n    \\\"Total Purchase Value\\\"\\n].map(\\\"${:.2f}\\\".format)\\nFivemostpopularitemsbyPC = FivemostpopularitemsbyPC[\\n    [\\\"Purchase Count\\\", \\\"Average Purchase Price\\\", \\\"Total Purchase Value\\\"]\\n]\\nFivemostpopularitemsbyPC.head()\";\n",
       "                var nbb_cells = Jupyter.notebook.get_cells();\n",
       "                for (var i = 0; i < nbb_cells.length; ++i) {\n",
       "                    if (nbb_cells[i].input_prompt_number == nbb_cell_id) {\n",
       "                        if (nbb_cells[i].get_text() == nbb_unformatted_code) {\n",
       "                             nbb_cells[i].set_text(nbb_formatted_code);\n",
       "                        }\n",
       "                        break;\n",
       "                    }\n",
       "                }\n",
       "            }, 500);\n",
       "            "
      ],
      "text/plain": [
       "<IPython.core.display.Javascript object>"
      ]
     },
     "metadata": {},
     "output_type": "display_data"
    }
   ],
   "source": [
    "groupedBySN = df.groupby([\"SN\"])\n",
    "groupedSNCount = groupedBySN[\"Item ID\"].count()\n",
    "groupedSNTotal = groupedBySN[\"Price\"].sum()\n",
    "groupedSNAvg = (groupedSNTotal / groupedSNCount)\n",
    "\n",
    "# Build DF and format\n",
    "FivemostpopularitemsbyPC = pd.DataFrame({\"Purchase Count\": groupedSNCount,\n",
    "                         \"Average Purchase Price\": groupedSNAvg,\n",
    "                         \"Total Purchase Value\": groupedSNTotal})\n",
    "\n",
    "FivemostpopularitemsbyPC =FivemostpopularitemsbyPC.sort_values(\"Total Purchase Value\", ascending=False) \n",
    "FivemostpopularitemsbyPC[\"Average Purchase Price\"] = FivemostpopularitemsbyPC[\"Average Purchase Price\"].map(\"${:.2f}\".format)\n",
    "FivemostpopularitemsbyPC[\"Total Purchase Value\"] = FivemostpopularitemsbyPC[\"Total Purchase Value\"].map(\"${:.2f}\".format)\n",
    "FivemostpopularitemsbyPC = FivemostpopularitemsbyPC[[\"Purchase Count\", \"Average Purchase Price\", \"Total Purchase Value\"]]\n",
    "FivemostpopularitemsbyPC.head()"
   ]
  },
  {
   "cell_type": "code",
   "execution_count": 48,
   "metadata": {},
   "outputs": [
    {
     "data": {
      "application/javascript": [
       "\n",
       "            setTimeout(function() {\n",
       "                var nbb_cell_id = 48;\n",
       "                var nbb_unformatted_code = \"#  Most Profitable Items\\n\\n# * Identify the 5 most profitable items by total purchase value, then list (in a table):\\n#   * Item ID\\n#   * Item Name\\n#   * Purchase Count\\n#   * Item Price\\n#   * Total Purchase Value\";\n",
       "                var nbb_formatted_code = \"#  Most Profitable Items\\n\\n# * Identify the 5 most profitable items by total purchase value, then list (in a table):\\n#   * Item ID\\n#   * Item Name\\n#   * Purchase Count\\n#   * Item Price\\n#   * Total Purchase Value\";\n",
       "                var nbb_cells = Jupyter.notebook.get_cells();\n",
       "                for (var i = 0; i < nbb_cells.length; ++i) {\n",
       "                    if (nbb_cells[i].input_prompt_number == nbb_cell_id) {\n",
       "                        if (nbb_cells[i].get_text() == nbb_unformatted_code) {\n",
       "                             nbb_cells[i].set_text(nbb_formatted_code);\n",
       "                        }\n",
       "                        break;\n",
       "                    }\n",
       "                }\n",
       "            }, 500);\n",
       "            "
      ],
      "text/plain": [
       "<IPython.core.display.Javascript object>"
      ]
     },
     "metadata": {},
     "output_type": "display_data"
    }
   ],
   "source": [
    "#  Most Profitable Items\n",
    "\n",
    "# * Identify the 5 most profitable items by total purchase value, then list (in a table):\n",
    "#   * Item ID\n",
    "#   * Item Name\n",
    "#   * Purchase Count\n",
    "#   * Item Price\n",
    "#   * Total Purchase Value"
   ]
  },
  {
   "cell_type": "code",
   "execution_count": 51,
   "metadata": {},
   "outputs": [
    {
     "data": {
      "text/html": [
       "<div>\n",
       "<style scoped>\n",
       "    .dataframe tbody tr th:only-of-type {\n",
       "        vertical-align: middle;\n",
       "    }\n",
       "\n",
       "    .dataframe tbody tr th {\n",
       "        vertical-align: top;\n",
       "    }\n",
       "\n",
       "    .dataframe thead th {\n",
       "        text-align: right;\n",
       "    }\n",
       "</style>\n",
       "<table border=\"1\" class=\"dataframe\">\n",
       "  <thead>\n",
       "    <tr style=\"text-align: right;\">\n",
       "      <th></th>\n",
       "      <th></th>\n",
       "      <th>Purchase Count</th>\n",
       "      <th>Item Price</th>\n",
       "      <th>Total Purchase Value</th>\n",
       "    </tr>\n",
       "    <tr>\n",
       "      <th>Item ID</th>\n",
       "      <th>Item Name</th>\n",
       "      <th></th>\n",
       "      <th></th>\n",
       "      <th></th>\n",
       "    </tr>\n",
       "  </thead>\n",
       "  <tbody>\n",
       "    <tr>\n",
       "      <th>178</th>\n",
       "      <th>Oathbreaker, Last Hope of the Breaking Storm</th>\n",
       "      <td>12</td>\n",
       "      <td>$4.23</td>\n",
       "      <td>$50.76</td>\n",
       "    </tr>\n",
       "    <tr>\n",
       "      <th>145</th>\n",
       "      <th>Fiery Glass Crusader</th>\n",
       "      <td>9</td>\n",
       "      <td>$4.58</td>\n",
       "      <td>$41.22</td>\n",
       "    </tr>\n",
       "    <tr>\n",
       "      <th>108</th>\n",
       "      <th>Extraction, Quickblade Of Trembling Hands</th>\n",
       "      <td>9</td>\n",
       "      <td>$3.53</td>\n",
       "      <td>$31.77</td>\n",
       "    </tr>\n",
       "    <tr>\n",
       "      <th>82</th>\n",
       "      <th>Nirvana</th>\n",
       "      <td>9</td>\n",
       "      <td>$4.90</td>\n",
       "      <td>$44.10</td>\n",
       "    </tr>\n",
       "    <tr>\n",
       "      <th>19</th>\n",
       "      <th>Pursuit, Cudgel of Necromancy</th>\n",
       "      <td>8</td>\n",
       "      <td>$1.02</td>\n",
       "      <td>$8.16</td>\n",
       "    </tr>\n",
       "  </tbody>\n",
       "</table>\n",
       "</div>"
      ],
      "text/plain": [
       "                                                      Purchase Count  \\\n",
       "Item ID Item Name                                                      \n",
       "178     Oathbreaker, Last Hope of the Breaking Storm              12   \n",
       "145     Fiery Glass Crusader                                       9   \n",
       "108     Extraction, Quickblade Of Trembling Hands                  9   \n",
       "82      Nirvana                                                    9   \n",
       "19      Pursuit, Cudgel of Necromancy                              8   \n",
       "\n",
       "                                                     Item Price  \\\n",
       "Item ID Item Name                                                 \n",
       "178     Oathbreaker, Last Hope of the Breaking Storm      $4.23   \n",
       "145     Fiery Glass Crusader                              $4.58   \n",
       "108     Extraction, Quickblade Of Trembling Hands         $3.53   \n",
       "82      Nirvana                                           $4.90   \n",
       "19      Pursuit, Cudgel of Necromancy                     $1.02   \n",
       "\n",
       "                                                     Total Purchase Value  \n",
       "Item ID Item Name                                                          \n",
       "178     Oathbreaker, Last Hope of the Breaking Storm               $50.76  \n",
       "145     Fiery Glass Crusader                                       $41.22  \n",
       "108     Extraction, Quickblade Of Trembling Hands                  $31.77  \n",
       "82      Nirvana                                                    $44.10  \n",
       "19      Pursuit, Cudgel of Necromancy                               $8.16  "
      ]
     },
     "execution_count": 51,
     "metadata": {},
     "output_type": "execute_result"
    },
    {
     "data": {
      "application/javascript": [
       "\n",
       "            setTimeout(function() {\n",
       "                var nbb_cell_id = 51;\n",
       "                var nbb_unformatted_code = \"# Data manipulation\\ngroupItem = df.groupby([\\\"Item ID\\\", \\\"Item Name\\\"])\\ngroupItemC = groupItem[\\\"SN\\\"].count()\\ngroupPriceSum = groupItem[\\\"Price\\\"].sum()\\ngroupItemP = (groupPriceSum / groupItemC)\\ngroupItemV = (groupItemP * groupItemC)\\n\\n# New DF with formatting\\nFivemostpopularitemsbyPI = pd.DataFrame({\\\"Purchase Count\\\": groupItemC,\\n                          \\\"Item Price\\\": groupItemP,\\n                          \\\"Total Purchase Value\\\": groupItemV})\\n\\nFivemostpopularitemsbyPI = FivemostpopularitemsbyPI.sort_values(\\\"Purchase Count\\\", ascending=False) \\nFivemostpopularitemsbyPI[\\\"Item Price\\\"] = FivemostpopularitemsbyPI[\\\"Item Price\\\"].map(\\\"${:.2f}\\\".format)\\nFivemostpopularitemsbyPI[\\\"Total Purchase Value\\\"] =FivemostpopularitemsbyPI[\\\"Total Purchase Value\\\"].map(\\\"${:.2f}\\\".format)\\nFivemostpopularitemsbyPI = FivemostpopularitemsbyPI[[\\\"Purchase Count\\\", \\\"Item Price\\\", \\\"Total Purchase Value\\\"]]\\nFivemostpopularitemsbyPI.head()\";\n",
       "                var nbb_formatted_code = \"# Data manipulation\\ngroupItem = df.groupby([\\\"Item ID\\\", \\\"Item Name\\\"])\\ngroupItemC = groupItem[\\\"SN\\\"].count()\\ngroupPriceSum = groupItem[\\\"Price\\\"].sum()\\ngroupItemP = groupPriceSum / groupItemC\\ngroupItemV = groupItemP * groupItemC\\n\\n# New DF with formatting\\nFivemostpopularitemsbyPI = pd.DataFrame(\\n    {\\n        \\\"Purchase Count\\\": groupItemC,\\n        \\\"Item Price\\\": groupItemP,\\n        \\\"Total Purchase Value\\\": groupItemV,\\n    }\\n)\\n\\nFivemostpopularitemsbyPI = FivemostpopularitemsbyPI.sort_values(\\n    \\\"Purchase Count\\\", ascending=False\\n)\\nFivemostpopularitemsbyPI[\\\"Item Price\\\"] = FivemostpopularitemsbyPI[\\\"Item Price\\\"].map(\\n    \\\"${:.2f}\\\".format\\n)\\nFivemostpopularitemsbyPI[\\\"Total Purchase Value\\\"] = FivemostpopularitemsbyPI[\\n    \\\"Total Purchase Value\\\"\\n].map(\\\"${:.2f}\\\".format)\\nFivemostpopularitemsbyPI = FivemostpopularitemsbyPI[\\n    [\\\"Purchase Count\\\", \\\"Item Price\\\", \\\"Total Purchase Value\\\"]\\n]\\nFivemostpopularitemsbyPI.head()\";\n",
       "                var nbb_cells = Jupyter.notebook.get_cells();\n",
       "                for (var i = 0; i < nbb_cells.length; ++i) {\n",
       "                    if (nbb_cells[i].input_prompt_number == nbb_cell_id) {\n",
       "                        if (nbb_cells[i].get_text() == nbb_unformatted_code) {\n",
       "                             nbb_cells[i].set_text(nbb_formatted_code);\n",
       "                        }\n",
       "                        break;\n",
       "                    }\n",
       "                }\n",
       "            }, 500);\n",
       "            "
      ],
      "text/plain": [
       "<IPython.core.display.Javascript object>"
      ]
     },
     "metadata": {},
     "output_type": "display_data"
    }
   ],
   "source": [
    "# Data manipulation\n",
    "groupItem = df.groupby([\"Item ID\", \"Item Name\"])\n",
    "groupItemC = groupItem[\"SN\"].count()\n",
    "groupPriceSum = groupItem[\"Price\"].sum()\n",
    "groupItemP = (groupPriceSum / groupItemC)\n",
    "groupItemV = (groupItemP * groupItemC)\n",
    "\n",
    "# New DF with formatting\n",
    "FivemostpopularitemsbyPI = pd.DataFrame({\"Purchase Count\": groupItemC,\n",
    "                          \"Item Price\": groupItemP,\n",
    "                          \"Total Purchase Value\": groupItemV})\n",
    "\n",
    "FivemostpopularitemsbyPI = FivemostpopularitemsbyPI.sort_values(\"Purchase Count\", ascending=False) \n",
    "FivemostpopularitemsbyPI[\"Item Price\"] = FivemostpopularitemsbyPI[\"Item Price\"].map(\"${:.2f}\".format)\n",
    "FivemostpopularitemsbyPI[\"Total Purchase Value\"] =FivemostpopularitemsbyPI[\"Total Purchase Value\"].map(\"${:.2f}\".format)\n",
    "FivemostpopularitemsbyPI = FivemostpopularitemsbyPI[[\"Purchase Count\", \"Item Price\", \"Total Purchase Value\"]]\n",
    "FivemostpopularitemsbyPI.head()"
   ]
  },
  {
   "cell_type": "code",
   "execution_count": null,
   "metadata": {},
   "outputs": [],
   "source": []
  }
 ],
 "metadata": {
  "environment": {
   "name": "common-cpu.m54",
   "type": "gcloud",
   "uri": "gcr.io/deeplearning-platform-release/base-cpu:m54"
  },
  "kernelspec": {
   "display_name": "Python 3",
   "language": "python",
   "name": "python3"
  },
  "language_info": {
   "codemirror_mode": {
    "name": "ipython",
    "version": 3
   },
   "file_extension": ".py",
   "mimetype": "text/x-python",
   "name": "python",
   "nbconvert_exporter": "python",
   "pygments_lexer": "ipython3",
   "version": "3.7.8"
  }
 },
 "nbformat": 4,
 "nbformat_minor": 4
}
